{
 "cells": [
  {
   "cell_type": "code",
   "execution_count": 1,
   "id": "ac902b4b-d63f-4c88-a4e0-915a449355fb",
   "metadata": {},
   "outputs": [
    {
     "name": "stdout",
     "output_type": "stream",
     "text": [
      "Это невероятно!\n"
     ]
    }
   ],
   "source": [
    "print(\"Это невероятно!\")"
   ]
  },
  {
   "cell_type": "code",
   "execution_count": 3,
   "id": "b49bfd02-2113-47ed-b6b2-5e55cc4ea8f5",
   "metadata": {},
   "outputs": [
    {
     "name": "stdout",
     "output_type": "stream",
     "text": [
      "Нет,это наука!\n"
     ]
    }
   ],
   "source": [
    "print (\"Нет,это наука!\")"
   ]
  },
  {
   "cell_type": "code",
   "execution_count": null,
   "id": "5850a5e5-c82d-4244-86e8-a29d467430d1",
   "metadata": {},
   "outputs": [],
   "source": []
  }
 ],
 "metadata": {
  "kernelspec": {
   "display_name": "Python 3 (ipykernel)",
   "language": "python",
   "name": "python3"
  },
  "language_info": {
   "codemirror_mode": {
    "name": "ipython",
    "version": 3
   },
   "file_extension": ".py",
   "mimetype": "text/x-python",
   "name": "python",
   "nbconvert_exporter": "python",
   "pygments_lexer": "ipython3",
   "version": "3.12.4"
  }
 },
 "nbformat": 4,
 "nbformat_minor": 5
}
