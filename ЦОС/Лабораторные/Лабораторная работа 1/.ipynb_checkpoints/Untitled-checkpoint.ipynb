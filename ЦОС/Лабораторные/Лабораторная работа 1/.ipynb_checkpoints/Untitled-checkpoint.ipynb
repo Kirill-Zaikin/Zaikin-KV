{
 "cells": [
  {
   "cell_type": "code",
   "execution_count": 1,
   "id": "778b3293-c11c-42f4-9619-cf5dc94168a3",
   "metadata": {},
   "outputs": [
    {
     "name": "stdout",
     "output_type": "stream",
     "text": [
      "Привет Мир!\n"
     ]
    }
   ],
   "source": [
    "print (\"Привет Мир!\")"
   ]
  },
  {
   "cell_type": "code",
   "execution_count": 24,
   "id": "8372d4c0-461e-4b48-8ee3-505305407698",
   "metadata": {},
   "outputs": [],
   "source": [
    "def dtft(x, M=1024):\n",
    "    return -0.5 + np.arange(M)/M, np.fft.fftshift(np.fft.fft(x, M))"
   ]
  },
  {
   "cell_type": "code",
   "execution_count": 25,
   "id": "8123b4d6-3fcd-4361-824a-9d07f4d859d4",
   "metadata": {},
   "outputs": [
    {
     "name": "stdout",
     "output_type": "stream",
     "text": [
      "x =  [1. 1. 1. 1. 1. 1. 1. 1. 1. 1.]\n",
      "k =  [0 1 2 3 4 5 6 7 8 9]\n"
     ]
    }
   ],
   "source": [
    "N=10\n",
    "x = np.ones(N)\n",
    "k=np.arange(x.size)\n",
    "print('x = ', x)\n",
    "print('k = ', k)"
   ]
  },
  {
   "cell_type": "code",
   "execution_count": 26,
   "id": "80fba005-4233-44cf-aec5-aa7975addd3f",
   "metadata": {},
   "outputs": [
    {
     "ename": "NameError",
     "evalue": "name 'ticker' is not defined",
     "output_type": "error",
     "traceback": [
      "\u001b[1;31m---------------------------------------------------------------------------\u001b[0m",
      "\u001b[1;31mNameError\u001b[0m                                 Traceback (most recent call last)",
      "Cell \u001b[1;32mIn[26], line 4\u001b[0m\n\u001b[0;32m      2\u001b[0m figure1 \u001b[38;5;241m=\u001b[39m plt\u001b[38;5;241m.\u001b[39mfigure(figsize\u001b[38;5;241m=\u001b[39m[\u001b[38;5;241m6\u001b[39m, \u001b[38;5;241m2\u001b[39m], dpi\u001b[38;5;241m=\u001b[39m\u001b[38;5;241m120\u001b[39m)\n\u001b[0;32m      3\u001b[0m ax \u001b[38;5;241m=\u001b[39m plt\u001b[38;5;241m.\u001b[39maxes()\n\u001b[1;32m----> 4\u001b[0m ax\u001b[38;5;241m.\u001b[39mxaxis\u001b[38;5;241m.\u001b[39mset_major_locator(ticker\u001b[38;5;241m.\u001b[39mMultipleLocator(base\u001b[38;5;241m=\u001b[39m\u001b[38;5;241m1\u001b[39m))\n\u001b[0;32m      5\u001b[0m plt\u001b[38;5;241m.\u001b[39mstem(k, x)\n\u001b[0;32m      6\u001b[0m plt\u001b[38;5;241m.\u001b[39mxlabel(\u001b[38;5;124m\"\u001b[39m\u001b[38;5;124m$k$\u001b[39m\u001b[38;5;124m\"\u001b[39m)\n",
      "\u001b[1;31mNameError\u001b[0m: name 'ticker' is not defined"
     ]
    },
    {
     "data": {
      "image/png": "[encoded data removed]",
      "text/plain": [
       "<Figure size 720x240 with 1 Axes>"
      ]
     },
     "metadata": {},
     "output_type": "display_data"
    }
   ],
   "source": [
    "#Начало графического блока\n",
    "figure1 = plt.figure(figsize=[6, 2], dpi=120)\n",
    "ax = plt.axes()\n",
    "ax.xaxis.set_major_locator(ticker.MultipleLocator(base=1))\n",
    "plt.stem(k, x)\n",
    "plt.xlabel(\"$k$\")\n",
    "plt.ylabel(\"$x[k]$\")\n",
    "plt.title(\"Сигнал $x[k]$\")\n",
    "plt.grid()\n",
    "plt.tight_layout()\n",
    "plt.show()\n",
    "#Конец графического блока"
   ]
  },
  {
   "cell_type": "code",
   "execution_count": 27,
   "id": "4c002b48-4b09-4470-8323-3d605c8aab04",
   "metadata": {},
   "outputs": [],
   "source": [
    "nu, X = dtft(x, M=1024)"
   ]
  },
  {
   "cell_type": "code",
   "execution_count": 28,
   "id": "255e5a23-afda-444f-a3a1-aa3a4c184de3",
   "metadata": {},
   "outputs": [
    {
     "ename": "NameError",
     "evalue": "name 'ticker' is not defined",
     "output_type": "error",
     "traceback": [
      "\u001b[1;31m---------------------------------------------------------------------------\u001b[0m",
      "\u001b[1;31mNameError\u001b[0m                                 Traceback (most recent call last)",
      "Cell \u001b[1;32mIn[28], line 4\u001b[0m\n\u001b[0;32m      2\u001b[0m plt\u001b[38;5;241m.\u001b[39mfigure(figsize\u001b[38;5;241m=\u001b[39m[\u001b[38;5;241m6\u001b[39m, \u001b[38;5;241m4\u001b[39m], dpi\u001b[38;5;241m=\u001b[39m\u001b[38;5;241m120\u001b[39m)\n\u001b[0;32m      3\u001b[0m ax1 \u001b[38;5;241m=\u001b[39m plt\u001b[38;5;241m.\u001b[39msubplot(\u001b[38;5;241m2\u001b[39m, \u001b[38;5;241m1\u001b[39m, \u001b[38;5;241m1\u001b[39m)\n\u001b[1;32m----> 4\u001b[0m ax1\u001b[38;5;241m.\u001b[39mxaxis\u001b[38;5;241m.\u001b[39mset_major_locator(ticker\u001b[38;5;241m.\u001b[39mMultipleLocator(base\u001b[38;5;241m=\u001b[39m\u001b[38;5;241m0.1\u001b[39m))\n\u001b[0;32m      5\u001b[0m plt\u001b[38;5;241m.\u001b[39mplot(nu, \u001b[38;5;28mabs\u001b[39m(X), \u001b[38;5;124m'\u001b[39m\u001b[38;5;124mg\u001b[39m\u001b[38;5;124m'\u001b[39m)\n\u001b[0;32m      6\u001b[0m plt\u001b[38;5;241m.\u001b[39mxlabel(\u001b[38;5;124m\"\u001b[39m\u001b[38;5;124m$\u001b[39m\u001b[38;5;130;01m\\\\\u001b[39;00m\u001b[38;5;124mnu$\u001b[39m\u001b[38;5;124m\"\u001b[39m)\n",
      "\u001b[1;31mNameError\u001b[0m: name 'ticker' is not defined"
     ]
    },
    {
     "data": {
      "image/png": "[encoded data removed]",
      "text/plain": [
       "<Figure size 720x480 with 1 Axes>"
      ]
     },
     "metadata": {},
     "output_type": "display_data"
    }
   ],
   "source": [
    "#Начало графического блока\n",
    "plt.figure(figsize=[6, 4], dpi=120)\n",
    "ax1 = plt.subplot(2, 1, 1)\n",
    "ax1.xaxis.set_major_locator(ticker.MultipleLocator(base=0.1))\n",
    "plt.plot(nu, abs(X), 'g')\n",
    "plt.xlabel(\"$\\\\nu$\")\n",
    "plt.ylabel(\"$|X(\\\\nu)|$\")\n",
    "plt.xlim([-0.5, 0.5])\n",
    "plt.title(\"Модуль ДВПФ для $x[k]$\")\n",
    "plt.grid()\n",
    "ax2 = plt.subplot(2, 1, 2)\n",
    "ax2.xaxis.set_major_locator(ticker.MultipleLocator(base=0.1))\n",
    "plt.plot(nu, np.angle(X), 'b')\n",
    "plt.xlabel(\"$\\\\nu$\")\n",
    "plt.ylabel(\"$\\\\varphi(\\\\nu)$\")\n",
    "plt.yticks([-np.pi, 0, np.pi], labels=(\"$-\\\\pi$\", \"0\", \"$\\\\pi$\"))\n",
    "plt.xlim([-0.5, 0.5])\n",
    "plt.title(\"Фаза ДВПФ для $x[k]$\")\n",
    "plt.grid()\n",
    "plt.tight_layout()\n",
    "plt.show()\n",
    "#Конец графического блока"
   ]
  },
  {
   "cell_type": "code",
   "execution_count": 15,
   "id": "f1335e45-9b9c-4eee-87d2-e3904d8f774a",
   "metadata": {},
   "outputs": [
    {
     "data": {
      "text/plain": [
       "array([0.        +0.j        , 0.00084688+0.03066325j,\n",
       "       0.00338468+0.06122841j, ..., 0.00760489-0.09159769j,\n",
       "       0.00338468-0.06122841j, 0.00084688-0.03066325j])"
      ]
     },
     "execution_count": 15,
     "metadata": {},
     "output_type": "execute_result"
    }
   ],
   "source": [
    "X"
   ]
  },
  {
   "cell_type": "code",
   "execution_count": 16,
   "id": "082bd67a-2a8b-4f72-a219-0e91e3140e58",
   "metadata": {},
   "outputs": [
    {
     "data": {
      "text/plain": [
       "array([0.        , 0.00084688, 0.00338468, ..., 0.00760489, 0.00338468,\n",
       "       0.00084688])"
      ]
     },
     "execution_count": 16,
     "metadata": {},
     "output_type": "execute_result"
    }
   ],
   "source": [
    "X.real"
   ]
  },
  {
   "cell_type": "code",
   "execution_count": 17,
   "id": "307b6bd0-f25e-49f7-8480-3dd3a472718d",
   "metadata": {},
   "outputs": [
    {
     "data": {
      "text/plain": [
       "array([ 0.        ,  0.03066325,  0.06122841, ..., -0.09159769,\n",
       "       -0.06122841, -0.03066325])"
      ]
     },
     "execution_count": 17,
     "metadata": {},
     "output_type": "execute_result"
    }
   ],
   "source": [
    "X.imag"
   ]
  },
  {
   "cell_type": "code",
   "execution_count": 18,
   "id": "9ffb3a83-6f2b-4835-aefe-01a0a3544baa",
   "metadata": {},
   "outputs": [
    {
     "data": {
      "text/plain": [
       "array([ 0.        ,  1.54318467,  1.51557302, ..., -1.48796136,\n",
       "       -1.51557302, -1.54318467])"
      ]
     },
     "execution_count": 18,
     "metadata": {},
     "output_type": "execute_result"
    }
   ],
   "source": [
    "np.angle(X)"
   ]
  },
  {
   "cell_type": "code",
   "execution_count": 19,
   "id": "f9e019ae-2c1e-444b-801a-2fb9bd172ab3",
   "metadata": {},
   "outputs": [
    {
     "data": {
      "text/plain": [
       "array([0.        , 0.03067495, 0.06132189, ..., 0.09191285, 0.06132189,\n",
       "       0.03067495])"
      ]
     },
     "execution_count": 19,
     "metadata": {},
     "output_type": "execute_result"
    }
   ],
   "source": [
    "abs(X)"
   ]
  },
  {
   "cell_type": "code",
   "execution_count": 20,
   "id": "c5a694a3-a609-452e-a83f-d18dd3f001ac",
   "metadata": {},
   "outputs": [
    {
     "ename": "NameError",
     "evalue": "name 'ticker' is not defined",
     "output_type": "error",
     "traceback": [
      "\u001b[1;31m---------------------------------------------------------------------------\u001b[0m",
      "\u001b[1;31mNameError\u001b[0m                                 Traceback (most recent call last)",
      "Cell \u001b[1;32mIn[20], line 4\u001b[0m\n\u001b[0;32m      2\u001b[0m plt\u001b[38;5;241m.\u001b[39mfigure(figsize\u001b[38;5;241m=\u001b[39m[\u001b[38;5;241m6\u001b[39m, \u001b[38;5;241m4\u001b[39m], dpi\u001b[38;5;241m=\u001b[39m\u001b[38;5;241m120\u001b[39m)\n\u001b[0;32m      3\u001b[0m ax1 \u001b[38;5;241m=\u001b[39m plt\u001b[38;5;241m.\u001b[39msubplot(\u001b[38;5;241m2\u001b[39m, \u001b[38;5;241m1\u001b[39m, \u001b[38;5;241m1\u001b[39m)\n\u001b[1;32m----> 4\u001b[0m ax1\u001b[38;5;241m.\u001b[39mxaxis\u001b[38;5;241m.\u001b[39mset_major_locator(ticker\u001b[38;5;241m.\u001b[39mMultipleLocator(base\u001b[38;5;241m=\u001b[39m\u001b[38;5;241m0.1\u001b[39m))\n\u001b[0;32m      5\u001b[0m plt\u001b[38;5;241m.\u001b[39mplot(nu, X\u001b[38;5;241m.\u001b[39mreal, \u001b[38;5;124m'\u001b[39m\u001b[38;5;124mg\u001b[39m\u001b[38;5;124m'\u001b[39m)\n\u001b[0;32m      6\u001b[0m plt\u001b[38;5;241m.\u001b[39mxlabel(\u001b[38;5;124m\"\u001b[39m\u001b[38;5;124m$\u001b[39m\u001b[38;5;130;01m\\\\\u001b[39;00m\u001b[38;5;124mnu$\u001b[39m\u001b[38;5;124m\"\u001b[39m)\n",
      "\u001b[1;31mNameError\u001b[0m: name 'ticker' is not defined"
     ]
    },
    {
     "data": {
      "image/png": "[encoded data removed]",
      "text/plain": [
       "<Figure size 720x480 with 1 Axes>"
      ]
     },
     "metadata": {},
     "output_type": "display_data"
    }
   ],
   "source": [
    "#Начало графического блока\n",
    "plt.figure(figsize=[6, 4], dpi=120)\n",
    "ax1 = plt.subplot(2, 1, 1)\n",
    "ax1.xaxis.set_major_locator(ticker.MultipleLocator(base=0.1))\n",
    "plt.plot(nu, X.real, 'g')\n",
    "plt.xlabel(\"$\\\\nu$\")\n",
    "plt.ylabel(\"Re $X(\\\\nu)$\")\n",
    "plt.xlim([-0.5, 0.5])\n",
    "plt.title(\"ДВПФ для $x[k]$\")\n",
    "plt.grid()\n",
    "ax2 = plt.subplot(2, 1, 2)\n",
    "ax2.xaxis.set_major_locator(ticker.MultipleLocator(base=0.1))\n",
    "plt.plot(nu, X.imag, 'b')\n",
    "plt.xlabel(\"$\\\\nu$\")\n",
    "plt.ylabel(\"Im $X(\\\\nu)$\")\n",
    "plt.xlim([-0.5, 0.5])\n",
    "plt.grid()\n",
    "plt.tight_layout()\n",
    "plt.show()\n",
    "#Конец графического блока"
   ]
  },
  {
   "cell_type": "code",
   "execution_count": null,
   "id": "01b3caac-010b-4c18-848d-d8d4f384c3d8",
   "metadata": {},
   "outputs": [],
   "source": []
  }
 ],
 "metadata": {
  "kernelspec": {
   "display_name": "Python 3 (ipykernel)",
   "language": "python",
   "name": "python3"
  },
  "language_info": {
   "codemirror_mode": {
    "name": "ipython",
    "version": 3
   },
   "file_extension": ".py",
   "mimetype": "text/x-python",
   "name": "python",
   "nbconvert_exporter": "python",
   "pygments_lexer": "ipython3",
   "version": "3.12.4"
  }
 },
 "nbformat": 4,
 "nbformat_minor": 5
}
