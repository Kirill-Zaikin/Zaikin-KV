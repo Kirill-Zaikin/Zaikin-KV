{
 "cells": [
  {
   "cell_type": "code",
   "execution_count": 1,
   "id": "ac902b4b-d63f-4c88-a4e0-915a449355fb",
   "metadata": {},
   "outputs": [
    {
     "name": "stdout",
     "output_type": "stream",
     "text": [
      "Комитное безумие! Вас закомитили!\n"
     ]
    }
   ],
   "source": [
    "print(\"Комитное безумие! Вас закомитили!\")"
   ]
  },
  {
   "cell_type": "code",
   "execution_count": null,
   "id": "f1d6cc2e-0cd4-4079-9ef3-b7536567866d",
   "metadata": {},
   "outputs": [],
   "source": []
  }
 ],
 "metadata": {
  "kernelspec": {
   "display_name": "Python 3 (ipykernel)",
   "language": "python",
   "name": "python3"
  },
  "language_info": {
   "codemirror_mode": {
    "name": "ipython",
    "version": 3
   },
   "file_extension": ".py",
   "mimetype": "text/x-python",
   "name": "python",
   "nbconvert_exporter": "python",
   "pygments_lexer": "ipython3",
   "version": "3.12.4"
  }
 },
 "nbformat": 4,
 "nbformat_minor": 5
}
